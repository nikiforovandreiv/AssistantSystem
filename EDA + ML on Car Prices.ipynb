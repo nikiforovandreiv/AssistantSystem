{
 "cells": [
  {
   "cell_type": "markdown",
   "id": "34f59b40",
   "metadata": {},
   "source": [
    "# Used Car Analysis & Price Prediction Dataset"
   ]
  },
  {
   "cell_type": "markdown",
   "id": "2bde6542",
   "metadata": {},
   "source": [
    "This dataset contains information about used cars, such as:\n",
    "- brand\t\n",
    "- model\t\n",
    "- year\t\n",
    "- transmission\t\n",
    "- mileage\t\n",
    "- fuelType\t\n",
    "- tax\t\n",
    "- mpg\t\n",
    "- engineSize\t\n",
    "- price"
   ]
  },
  {
   "cell_type": "code",
   "execution_count": null,
   "id": "2283216f",
   "metadata": {},
   "outputs": [],
   "source": []
  },
  {
   "cell_type": "markdown",
   "id": "50cf4290",
   "metadata": {},
   "source": [
    "MPG stands for Miles Per Gallon. It is a unit of measurement used to quantify the fuel efficiency of a vehicle. Specifically, it represents the number of miles a vehicle can travel on one gallon of fuel. The higher the MPG value, the more fuel-efficient the vehicle is, as it can travel more miles per unit of fuel consumed.\n",
    "\n",
    "For example, if a car has an MPG rating of 30, it means the car can travel 30 miles on one gallon of fuel. Fuel efficiency is an important factor for consumers when considering the environmental impact and cost of operating a vehicle. It's commonly used in the United States and some other countries to provide a standardized measure of a car's fuel efficiency."
   ]
  },
  {
   "cell_type": "markdown",
   "id": "561bb47f",
   "metadata": {},
   "source": [
    "## Importing Libraries"
   ]
  },
  {
   "cell_type": "code",
   "execution_count": 179,
   "id": "5cf71b00",
   "metadata": {},
   "outputs": [],
   "source": [
    "# Import packages\n",
    "import numpy as np \n",
    "import pandas as pd\n",
    "import seaborn as sns\n",
    "\n",
    "import matplotlib.pyplot as plt\n",
    "\n",
    "from sklearn.preprocessing import LabelEncoder\n",
    "from sklearn.preprocessing import MinMaxScaler\n",
    "\n",
    "from sklearn.model_selection import train_test_split\n",
    "from sklearn.ensemble import RandomForestRegressor\n",
    "from sklearn.tree import DecisionTreeRegressor\n",
    "from sklearn.svm import SVR\n",
    "from sklearn.linear_model import LinearRegression\n",
    "from sklearn.metrics import  mean_squared_error"
   ]
  },
  {
   "cell_type": "markdown",
   "id": "4688ab71",
   "metadata": {},
   "source": [
    "## Importing Dataset"
   ]
  },
  {
   "cell_type": "code",
   "execution_count": 180,
   "id": "e80da8eb",
   "metadata": {},
   "outputs": [],
   "source": [
    "# Reading the csv file cars.csv\n",
    "df = pd.read_csv('Documents/used_cars_csv/cars.csv')"
   ]
  },
  {
   "cell_type": "markdown",
   "id": "c486a1f8",
   "metadata": {},
   "source": [
    "## Analysing Dataset"
   ]
  },
  {
   "cell_type": "code",
   "execution_count": 181,
   "id": "e4ca9abc",
   "metadata": {},
   "outputs": [
    {
     "data": {
      "text/html": [
       "<div>\n",
       "<style scoped>\n",
       "    .dataframe tbody tr th:only-of-type {\n",
       "        vertical-align: middle;\n",
       "    }\n",
       "\n",
       "    .dataframe tbody tr th {\n",
       "        vertical-align: top;\n",
       "    }\n",
       "\n",
       "    .dataframe thead th {\n",
       "        text-align: right;\n",
       "    }\n",
       "</style>\n",
       "<table border=\"1\" class=\"dataframe\">\n",
       "  <thead>\n",
       "    <tr style=\"text-align: right;\">\n",
       "      <th></th>\n",
       "      <th>brand</th>\n",
       "      <th>model</th>\n",
       "      <th>year</th>\n",
       "      <th>transmission</th>\n",
       "      <th>mileage</th>\n",
       "      <th>fuelType</th>\n",
       "      <th>tax</th>\n",
       "      <th>mpg</th>\n",
       "      <th>engineSize</th>\n",
       "      <th>price</th>\n",
       "    </tr>\n",
       "  </thead>\n",
       "  <tbody>\n",
       "    <tr>\n",
       "      <th>0</th>\n",
       "      <td>Audi</td>\n",
       "      <td>A1</td>\n",
       "      <td>2017</td>\n",
       "      <td>Manual</td>\n",
       "      <td>15735</td>\n",
       "      <td>Petrol</td>\n",
       "      <td>150</td>\n",
       "      <td>55.4</td>\n",
       "      <td>1.4</td>\n",
       "      <td>12500</td>\n",
       "    </tr>\n",
       "    <tr>\n",
       "      <th>1</th>\n",
       "      <td>Audi</td>\n",
       "      <td>A6</td>\n",
       "      <td>2016</td>\n",
       "      <td>Automatic</td>\n",
       "      <td>36203</td>\n",
       "      <td>Diesel</td>\n",
       "      <td>20</td>\n",
       "      <td>64.2</td>\n",
       "      <td>2.0</td>\n",
       "      <td>16500</td>\n",
       "    </tr>\n",
       "    <tr>\n",
       "      <th>2</th>\n",
       "      <td>Audi</td>\n",
       "      <td>A1</td>\n",
       "      <td>2016</td>\n",
       "      <td>Manual</td>\n",
       "      <td>29946</td>\n",
       "      <td>Petrol</td>\n",
       "      <td>30</td>\n",
       "      <td>55.4</td>\n",
       "      <td>1.4</td>\n",
       "      <td>11000</td>\n",
       "    </tr>\n",
       "    <tr>\n",
       "      <th>3</th>\n",
       "      <td>Audi</td>\n",
       "      <td>A4</td>\n",
       "      <td>2017</td>\n",
       "      <td>Automatic</td>\n",
       "      <td>25952</td>\n",
       "      <td>Diesel</td>\n",
       "      <td>145</td>\n",
       "      <td>67.3</td>\n",
       "      <td>2.0</td>\n",
       "      <td>16800</td>\n",
       "    </tr>\n",
       "    <tr>\n",
       "      <th>4</th>\n",
       "      <td>Audi</td>\n",
       "      <td>A3</td>\n",
       "      <td>2019</td>\n",
       "      <td>Manual</td>\n",
       "      <td>1998</td>\n",
       "      <td>Petrol</td>\n",
       "      <td>145</td>\n",
       "      <td>49.6</td>\n",
       "      <td>1.0</td>\n",
       "      <td>17300</td>\n",
       "    </tr>\n",
       "  </tbody>\n",
       "</table>\n",
       "</div>"
      ],
      "text/plain": [
       "  brand model  year transmission  mileage fuelType  tax   mpg  engineSize  \\\n",
       "0  Audi    A1  2017       Manual    15735   Petrol  150  55.4         1.4   \n",
       "1  Audi    A6  2016    Automatic    36203   Diesel   20  64.2         2.0   \n",
       "2  Audi    A1  2016       Manual    29946   Petrol   30  55.4         1.4   \n",
       "3  Audi    A4  2017    Automatic    25952   Diesel  145  67.3         2.0   \n",
       "4  Audi    A3  2019       Manual     1998   Petrol  145  49.6         1.0   \n",
       "\n",
       "   price  \n",
       "0  12500  \n",
       "1  16500  \n",
       "2  11000  \n",
       "3  16800  \n",
       "4  17300  "
      ]
     },
     "execution_count": 181,
     "metadata": {},
     "output_type": "execute_result"
    }
   ],
   "source": [
    "# Looking at the first 5 rows of our data\n",
    "df.head()"
   ]
  },
  {
   "cell_type": "markdown",
   "id": "cf285b09",
   "metadata": {},
   "source": [
    "### Observation:\n",
    "- You can see that not all the columns are in int or float data types.\n",
    "- Here price column is outcome feature to predict"
   ]
  },
  {
   "cell_type": "code",
   "execution_count": 182,
   "id": "bbf034e5",
   "metadata": {},
   "outputs": [
    {
     "data": {
      "text/html": [
       "<div>\n",
       "<style scoped>\n",
       "    .dataframe tbody tr th:only-of-type {\n",
       "        vertical-align: middle;\n",
       "    }\n",
       "\n",
       "    .dataframe tbody tr th {\n",
       "        vertical-align: top;\n",
       "    }\n",
       "\n",
       "    .dataframe thead th {\n",
       "        text-align: right;\n",
       "    }\n",
       "</style>\n",
       "<table border=\"1\" class=\"dataframe\">\n",
       "  <thead>\n",
       "    <tr style=\"text-align: right;\">\n",
       "      <th></th>\n",
       "      <th>brand</th>\n",
       "      <th>model</th>\n",
       "      <th>year</th>\n",
       "      <th>transmission</th>\n",
       "      <th>mileage</th>\n",
       "      <th>fuelType</th>\n",
       "      <th>tax</th>\n",
       "      <th>mpg</th>\n",
       "      <th>engineSize</th>\n",
       "      <th>price</th>\n",
       "    </tr>\n",
       "  </thead>\n",
       "  <tbody>\n",
       "    <tr>\n",
       "      <th>46147</th>\n",
       "      <td>Toyota</td>\n",
       "      <td>IQ</td>\n",
       "      <td>2011</td>\n",
       "      <td>Automatic</td>\n",
       "      <td>30000</td>\n",
       "      <td>Petrol</td>\n",
       "      <td>20</td>\n",
       "      <td>58.9</td>\n",
       "      <td>1.0</td>\n",
       "      <td>5500</td>\n",
       "    </tr>\n",
       "    <tr>\n",
       "      <th>46148</th>\n",
       "      <td>Toyota</td>\n",
       "      <td>Urban Cruiser</td>\n",
       "      <td>2011</td>\n",
       "      <td>Manual</td>\n",
       "      <td>36154</td>\n",
       "      <td>Petrol</td>\n",
       "      <td>125</td>\n",
       "      <td>50.4</td>\n",
       "      <td>1.3</td>\n",
       "      <td>4985</td>\n",
       "    </tr>\n",
       "    <tr>\n",
       "      <th>46149</th>\n",
       "      <td>Toyota</td>\n",
       "      <td>Urban Cruiser</td>\n",
       "      <td>2012</td>\n",
       "      <td>Manual</td>\n",
       "      <td>46000</td>\n",
       "      <td>Diesel</td>\n",
       "      <td>125</td>\n",
       "      <td>57.6</td>\n",
       "      <td>1.4</td>\n",
       "      <td>4995</td>\n",
       "    </tr>\n",
       "    <tr>\n",
       "      <th>46150</th>\n",
       "      <td>Toyota</td>\n",
       "      <td>Urban Cruiser</td>\n",
       "      <td>2011</td>\n",
       "      <td>Manual</td>\n",
       "      <td>60700</td>\n",
       "      <td>Petrol</td>\n",
       "      <td>125</td>\n",
       "      <td>50.4</td>\n",
       "      <td>1.3</td>\n",
       "      <td>3995</td>\n",
       "    </tr>\n",
       "    <tr>\n",
       "      <th>46151</th>\n",
       "      <td>Toyota</td>\n",
       "      <td>Urban Cruiser</td>\n",
       "      <td>2011</td>\n",
       "      <td>Manual</td>\n",
       "      <td>45128</td>\n",
       "      <td>Petrol</td>\n",
       "      <td>125</td>\n",
       "      <td>50.4</td>\n",
       "      <td>1.3</td>\n",
       "      <td>4495</td>\n",
       "    </tr>\n",
       "  </tbody>\n",
       "</table>\n",
       "</div>"
      ],
      "text/plain": [
       "        brand           model  year transmission  mileage fuelType  tax   mpg  \\\n",
       "46147  Toyota              IQ  2011    Automatic    30000   Petrol   20  58.9   \n",
       "46148  Toyota   Urban Cruiser  2011       Manual    36154   Petrol  125  50.4   \n",
       "46149  Toyota   Urban Cruiser  2012       Manual    46000   Diesel  125  57.6   \n",
       "46150  Toyota   Urban Cruiser  2011       Manual    60700   Petrol  125  50.4   \n",
       "46151  Toyota   Urban Cruiser  2011       Manual    45128   Petrol  125  50.4   \n",
       "\n",
       "       engineSize  price  \n",
       "46147         1.0   5500  \n",
       "46148         1.3   4985  \n",
       "46149         1.4   4995  \n",
       "46150         1.3   3995  \n",
       "46151         1.3   4495  "
      ]
     },
     "execution_count": 182,
     "metadata": {},
     "output_type": "execute_result"
    }
   ],
   "source": [
    "# Looking at the last 5 rows of our data\n",
    "df.tail()"
   ]
  },
  {
   "cell_type": "code",
   "execution_count": 183,
   "id": "4a4361fc",
   "metadata": {},
   "outputs": [
    {
     "name": "stdout",
     "output_type": "stream",
     "text": [
      "Number of rows: 46152\n",
      "Number of column: 10\n"
     ]
    }
   ],
   "source": [
    "# Looking at the shape of our data\n",
    "print('Number of rows:', df.shape[0])\n",
    "print('Number of column:', df.shape[1])"
   ]
  },
  {
   "cell_type": "code",
   "execution_count": 184,
   "id": "1c5f046c",
   "metadata": {},
   "outputs": [
    {
     "name": "stdout",
     "output_type": "stream",
     "text": [
      "<class 'pandas.core.frame.DataFrame'>\n",
      "RangeIndex: 46152 entries, 0 to 46151\n",
      "Data columns (total 10 columns):\n",
      " #   Column        Non-Null Count  Dtype  \n",
      "---  ------        --------------  -----  \n",
      " 0   brand         46152 non-null  object \n",
      " 1   model         46152 non-null  object \n",
      " 2   year          46152 non-null  int64  \n",
      " 3   transmission  46152 non-null  object \n",
      " 4   mileage       46152 non-null  int64  \n",
      " 5   fuelType      46152 non-null  object \n",
      " 6   tax           46152 non-null  int64  \n",
      " 7   mpg           46152 non-null  float64\n",
      " 8   engineSize    46152 non-null  float64\n",
      " 9   price         46152 non-null  int64  \n",
      "dtypes: float64(2), int64(4), object(4)\n",
      "memory usage: 3.5+ MB\n"
     ]
    }
   ],
   "source": [
    "# Looking at the basic info of our data\n",
    "df.info()"
   ]
  },
  {
   "cell_type": "markdown",
   "id": "0cb55c2a",
   "metadata": {},
   "source": [
    "### Observation:\n",
    "- You can see that there are no missing rows in the entire dataset. So we do not need to fill/drop any value\n",
    "- Columns of object datatype (String):\n",
    "  - brand\n",
    "  - model\n",
    "  - transmission\n",
    "  - fuelType\n",
    "- Columns of int64 datatype:\n",
    "  - year\n",
    "  - price\n",
    "  - mileage\n",
    "  - tax\n",
    "- Columns of float64 datatype:\n",
    "  - mpg\n",
    "  - engineSize"
   ]
  },
  {
   "cell_type": "code",
   "execution_count": 185,
   "id": "2782b4b1",
   "metadata": {},
   "outputs": [
    {
     "name": "stdout",
     "output_type": "stream",
     "text": [
      "['Audi' 'BMW' 'Ford' 'Toyota']\n",
      "\n",
      "[' A1' ' A6' ' A4' ' A3' ' Q3' ' Q5' ' A5' ' S4' ' Q2' ' A7' ' TT' ' Q7'\n",
      " ' RS6' ' RS3' ' A8' ' Q8' ' RS4' ' RS5' ' R8' ' SQ5' ' S8' ' SQ7' ' S3'\n",
      " ' S5' ' A2' ' RS7' ' 5 Series' ' 6 Series' ' 1 Series' ' 7 Series'\n",
      " ' 2 Series' ' 4 Series' ' X3' ' 3 Series' ' X5' ' X4' ' i3' ' X1' ' M4'\n",
      " ' X2' ' X6' ' 8 Series' ' Z4' ' X7' ' M5' ' i8' ' M2' ' M3' ' M6' ' Z3'\n",
      " ' Fiesta' ' Focus' ' Puma' ' Kuga' ' EcoSport' ' C-MAX' ' Mondeo' ' Ka+'\n",
      " ' Tourneo Custom' ' S-MAX' ' B-MAX' ' Edge' ' Tourneo Connect'\n",
      " ' Grand C-MAX' ' KA' ' Galaxy' ' Mustang' ' Grand Tourneo Connect'\n",
      " ' Fusion' ' Ranger' ' Streetka' ' Escort' ' Transit Tourneo' ' GT86'\n",
      " ' Corolla' ' RAV4' ' Yaris' ' Auris' ' Aygo' ' C-HR' ' Prius' ' Avensis'\n",
      " ' Verso' ' Hilux' ' PROACE VERSO' ' Land Cruiser' ' Supra' ' Camry'\n",
      " ' Verso-S' ' IQ' ' Urban Cruiser']\n",
      "\n",
      "['Manual' 'Automatic' 'Semi-Auto' 'Other']\n",
      "\n",
      "['Petrol' 'Diesel' 'Hybrid' 'Other' 'Electric']\n",
      "\n"
     ]
    }
   ],
   "source": [
    "# Looking at all unique values of 4 columns of object datatype (String)\n",
    "print(df.brand.unique(), end='\\n\\n')\n",
    "print(df.model.unique(), end='\\n\\n')\n",
    "print(df.transmission.unique(), end='\\n\\n')\n",
    "print(df.fuelType.unique(), end='\\n\\n')"
   ]
  },
  {
   "cell_type": "markdown",
   "id": "233348e5",
   "metadata": {},
   "source": [
    "### Observation:\n",
    "- We have 4 unique brands:\n",
    "  - Audi\n",
    "  - BMW\n",
    "  - Ford\n",
    "  - Toyota\n",
    "- There are many car models\n",
    "- We have 4 unique transmission types:\n",
    "  - Manual\n",
    "  - Automatic\n",
    "  - Semi-Auto\n",
    "  - Other\n",
    "- We have 5 unique fuelType types:\n",
    "  - Petrol\n",
    "  - Diesel\n",
    "  - Hybrid\n",
    "  - Other\n",
    "  - Electric"
   ]
  },
  {
   "cell_type": "code",
   "execution_count": 186,
   "id": "4f2e247b",
   "metadata": {},
   "outputs": [
    {
     "data": {
      "text/html": [
       "<div>\n",
       "<style scoped>\n",
       "    .dataframe tbody tr th:only-of-type {\n",
       "        vertical-align: middle;\n",
       "    }\n",
       "\n",
       "    .dataframe tbody tr th {\n",
       "        vertical-align: top;\n",
       "    }\n",
       "\n",
       "    .dataframe thead th {\n",
       "        text-align: right;\n",
       "    }\n",
       "</style>\n",
       "<table border=\"1\" class=\"dataframe\">\n",
       "  <thead>\n",
       "    <tr style=\"text-align: right;\">\n",
       "      <th></th>\n",
       "      <th>year</th>\n",
       "      <th>mileage</th>\n",
       "      <th>tax</th>\n",
       "      <th>mpg</th>\n",
       "      <th>engineSize</th>\n",
       "      <th>price</th>\n",
       "    </tr>\n",
       "  </thead>\n",
       "  <tbody>\n",
       "    <tr>\n",
       "      <th>count</th>\n",
       "      <td>46152.000000</td>\n",
       "      <td>46152.000000</td>\n",
       "      <td>46152.000000</td>\n",
       "      <td>46152.000000</td>\n",
       "      <td>46152.000000</td>\n",
       "      <td>46152.000000</td>\n",
       "    </tr>\n",
       "    <tr>\n",
       "      <th>mean</th>\n",
       "      <td>2016.953003</td>\n",
       "      <td>24126.385162</td>\n",
       "      <td>117.834438</td>\n",
       "      <td>56.654754</td>\n",
       "      <td>1.693290</td>\n",
       "      <td>17211.224042</td>\n",
       "    </tr>\n",
       "    <tr>\n",
       "      <th>std</th>\n",
       "      <td>2.176703</td>\n",
       "      <td>21848.625930</td>\n",
       "      <td>66.080120</td>\n",
       "      <td>18.953835</td>\n",
       "      <td>0.611737</td>\n",
       "      <td>10200.905956</td>\n",
       "    </tr>\n",
       "    <tr>\n",
       "      <th>min</th>\n",
       "      <td>1996.000000</td>\n",
       "      <td>1.000000</td>\n",
       "      <td>0.000000</td>\n",
       "      <td>2.800000</td>\n",
       "      <td>0.000000</td>\n",
       "      <td>495.000000</td>\n",
       "    </tr>\n",
       "    <tr>\n",
       "      <th>25%</th>\n",
       "      <td>2016.000000</td>\n",
       "      <td>7835.000000</td>\n",
       "      <td>125.000000</td>\n",
       "      <td>47.900000</td>\n",
       "      <td>1.200000</td>\n",
       "      <td>10298.000000</td>\n",
       "    </tr>\n",
       "    <tr>\n",
       "      <th>50%</th>\n",
       "      <td>2017.000000</td>\n",
       "      <td>18454.500000</td>\n",
       "      <td>145.000000</td>\n",
       "      <td>56.500000</td>\n",
       "      <td>1.600000</td>\n",
       "      <td>14799.000000</td>\n",
       "    </tr>\n",
       "    <tr>\n",
       "      <th>75%</th>\n",
       "      <td>2019.000000</td>\n",
       "      <td>33477.250000</td>\n",
       "      <td>145.000000</td>\n",
       "      <td>64.200000</td>\n",
       "      <td>2.000000</td>\n",
       "      <td>20995.000000</td>\n",
       "    </tr>\n",
       "    <tr>\n",
       "      <th>max</th>\n",
       "      <td>2060.000000</td>\n",
       "      <td>323000.000000</td>\n",
       "      <td>580.000000</td>\n",
       "      <td>470.800000</td>\n",
       "      <td>6.600000</td>\n",
       "      <td>145000.000000</td>\n",
       "    </tr>\n",
       "  </tbody>\n",
       "</table>\n",
       "</div>"
      ],
      "text/plain": [
       "               year        mileage           tax           mpg    engineSize  \\\n",
       "count  46152.000000   46152.000000  46152.000000  46152.000000  46152.000000   \n",
       "mean    2016.953003   24126.385162    117.834438     56.654754      1.693290   \n",
       "std        2.176703   21848.625930     66.080120     18.953835      0.611737   \n",
       "min     1996.000000       1.000000      0.000000      2.800000      0.000000   \n",
       "25%     2016.000000    7835.000000    125.000000     47.900000      1.200000   \n",
       "50%     2017.000000   18454.500000    145.000000     56.500000      1.600000   \n",
       "75%     2019.000000   33477.250000    145.000000     64.200000      2.000000   \n",
       "max     2060.000000  323000.000000    580.000000    470.800000      6.600000   \n",
       "\n",
       "               price  \n",
       "count   46152.000000  \n",
       "mean    17211.224042  \n",
       "std     10200.905956  \n",
       "min       495.000000  \n",
       "25%     10298.000000  \n",
       "50%     14799.000000  \n",
       "75%     20995.000000  \n",
       "max    145000.000000  "
      ]
     },
     "execution_count": 186,
     "metadata": {},
     "output_type": "execute_result"
    }
   ],
   "source": [
    "# Looking at the description of our data\n",
    "df.describe()"
   ]
  },
  {
   "cell_type": "markdown",
   "id": "d585da91",
   "metadata": {},
   "source": [
    "### Observation\n",
    "\n",
    "- Year of Manufacture:\n",
    "  - The data ranges from the year 1996 to an unusual maximum value of 2060. \n",
    "  - The maximum year seems erroneous, as it is likely a typo or data entry error.\n",
    "- Mileage:\n",
    "  - The average mileage is around 24,217 miles\n",
    "  - With a wide range from 1 mile to a maximum of 323,000 miles.\n",
    "- Tax:\n",
    "  - The average tax is approximately £117.74\n",
    "  - With a minimum tax of 0 and a maximum of 580. \n",
    "  - There may be some outliers in the tax values.\n",
    "- MPG (Miles Per Gallon):\n",
    "  - The average fuel efficiency is approximately 56.7 mpg\n",
    "  - With values ranging from 2.8 mpg to 470.8 mpg.\n",
    "- Engine Size:\n",
    "  - The average engine size is approximately 1.69 liters\n",
    "  - With a minimum size of 0 liters (possibly a data entry error) and a maximum of 6.6 liters.\n",
    "- Price:\n",
    "  - The average car price is approximately £17,183. \n",
    "  - The prices vary widely, with a minimum value of £495 and a maximum of £145,000."
   ]
  },
  {
   "cell_type": "markdown",
   "id": "e14ed5f2",
   "metadata": {},
   "source": [
    "### Conclusion\n",
    "- It's important to note that the dataset may require further cleaning and validation, especially considering the anomalous maximum year and minimum engine size. Additionally, the presence of outliers in tax and mileage values may also need to be addressed."
   ]
  },
  {
   "cell_type": "markdown",
   "id": "e8c4d566",
   "metadata": {},
   "source": [
    "## Preprocessing"
   ]
  },
  {
   "cell_type": "code",
   "execution_count": 187,
   "id": "833b9d24",
   "metadata": {},
   "outputs": [
    {
     "data": {
      "text/plain": [
       "brand           0\n",
       "model           0\n",
       "year            0\n",
       "transmission    0\n",
       "mileage         0\n",
       "fuelType        0\n",
       "tax             0\n",
       "mpg             0\n",
       "engineSize      0\n",
       "price           0\n",
       "dtype: int64"
      ]
     },
     "execution_count": 187,
     "metadata": {},
     "output_type": "execute_result"
    }
   ],
   "source": [
    "# Checking for missing values\n",
    "df.isnull().sum()"
   ]
  },
  {
   "cell_type": "markdown",
   "id": "83ed60fd",
   "metadata": {},
   "source": [
    "### Observation:\n",
    "- There are no missing values."
   ]
  },
  {
   "cell_type": "code",
   "execution_count": 188,
   "id": "314af02f",
   "metadata": {},
   "outputs": [
    {
     "data": {
      "text/plain": [
       "413"
      ]
     },
     "execution_count": 188,
     "metadata": {},
     "output_type": "execute_result"
    }
   ],
   "source": [
    "# Checking for duplicates\n",
    "df.duplicated().sum()"
   ]
  },
  {
   "cell_type": "markdown",
   "id": "26718149",
   "metadata": {},
   "source": [
    "### Observation:\n",
    "- There are duplicate values."
   ]
  },
  {
   "cell_type": "code",
   "execution_count": 189,
   "id": "c3c4e6d6",
   "metadata": {},
   "outputs": [],
   "source": [
    "# Removing duplicates\n",
    "df.drop_duplicates(inplace=True)"
   ]
  },
  {
   "cell_type": "code",
   "execution_count": 190,
   "id": "d1a5b564",
   "metadata": {},
   "outputs": [
    {
     "data": {
      "text/plain": [
       "0"
      ]
     },
     "execution_count": 190,
     "metadata": {},
     "output_type": "execute_result"
    }
   ],
   "source": [
    "# Checking for duplicates again\n",
    "df.duplicated().sum()"
   ]
  },
  {
   "cell_type": "code",
   "execution_count": 191,
   "id": "305d82f6",
   "metadata": {},
   "outputs": [
    {
     "data": {
      "text/html": [
       "<div>\n",
       "<style scoped>\n",
       "    .dataframe tbody tr th:only-of-type {\n",
       "        vertical-align: middle;\n",
       "    }\n",
       "\n",
       "    .dataframe tbody tr th {\n",
       "        vertical-align: top;\n",
       "    }\n",
       "\n",
       "    .dataframe thead th {\n",
       "        text-align: right;\n",
       "    }\n",
       "</style>\n",
       "<table border=\"1\" class=\"dataframe\">\n",
       "  <thead>\n",
       "    <tr style=\"text-align: right;\">\n",
       "      <th></th>\n",
       "      <th>brand</th>\n",
       "      <th>model</th>\n",
       "      <th>transmission</th>\n",
       "      <th>fuelType</th>\n",
       "    </tr>\n",
       "  </thead>\n",
       "  <tbody>\n",
       "    <tr>\n",
       "      <th>0</th>\n",
       "      <td>Audi</td>\n",
       "      <td>A1</td>\n",
       "      <td>Manual</td>\n",
       "      <td>Petrol</td>\n",
       "    </tr>\n",
       "    <tr>\n",
       "      <th>1</th>\n",
       "      <td>Audi</td>\n",
       "      <td>A6</td>\n",
       "      <td>Automatic</td>\n",
       "      <td>Diesel</td>\n",
       "    </tr>\n",
       "    <tr>\n",
       "      <th>2</th>\n",
       "      <td>Audi</td>\n",
       "      <td>A1</td>\n",
       "      <td>Manual</td>\n",
       "      <td>Petrol</td>\n",
       "    </tr>\n",
       "    <tr>\n",
       "      <th>3</th>\n",
       "      <td>Audi</td>\n",
       "      <td>A4</td>\n",
       "      <td>Automatic</td>\n",
       "      <td>Diesel</td>\n",
       "    </tr>\n",
       "    <tr>\n",
       "      <th>4</th>\n",
       "      <td>Audi</td>\n",
       "      <td>A3</td>\n",
       "      <td>Manual</td>\n",
       "      <td>Petrol</td>\n",
       "    </tr>\n",
       "  </tbody>\n",
       "</table>\n",
       "</div>"
      ],
      "text/plain": [
       "  brand model transmission fuelType\n",
       "0  Audi    A1       Manual   Petrol\n",
       "1  Audi    A6    Automatic   Diesel\n",
       "2  Audi    A1       Manual   Petrol\n",
       "3  Audi    A4    Automatic   Diesel\n",
       "4  Audi    A3       Manual   Petrol"
      ]
     },
     "execution_count": 191,
     "metadata": {},
     "output_type": "execute_result"
    }
   ],
   "source": [
    "# Looking at the string columns of our data\n",
    "df.select_dtypes(include=['object']).head()"
   ]
  },
  {
   "cell_type": "code",
   "execution_count": 192,
   "id": "e3a9afb8",
   "metadata": {},
   "outputs": [
    {
     "data": {
      "text/html": [
       "<div>\n",
       "<style scoped>\n",
       "    .dataframe tbody tr th:only-of-type {\n",
       "        vertical-align: middle;\n",
       "    }\n",
       "\n",
       "    .dataframe tbody tr th {\n",
       "        vertical-align: top;\n",
       "    }\n",
       "\n",
       "    .dataframe thead th {\n",
       "        text-align: right;\n",
       "    }\n",
       "</style>\n",
       "<table border=\"1\" class=\"dataframe\">\n",
       "  <thead>\n",
       "    <tr style=\"text-align: right;\">\n",
       "      <th></th>\n",
       "      <th>year</th>\n",
       "      <th>mileage</th>\n",
       "      <th>tax</th>\n",
       "      <th>mpg</th>\n",
       "      <th>engineSize</th>\n",
       "      <th>price</th>\n",
       "    </tr>\n",
       "  </thead>\n",
       "  <tbody>\n",
       "    <tr>\n",
       "      <th>0</th>\n",
       "      <td>2017</td>\n",
       "      <td>15735</td>\n",
       "      <td>150</td>\n",
       "      <td>55.4</td>\n",
       "      <td>1.4</td>\n",
       "      <td>12500</td>\n",
       "    </tr>\n",
       "    <tr>\n",
       "      <th>1</th>\n",
       "      <td>2016</td>\n",
       "      <td>36203</td>\n",
       "      <td>20</td>\n",
       "      <td>64.2</td>\n",
       "      <td>2.0</td>\n",
       "      <td>16500</td>\n",
       "    </tr>\n",
       "    <tr>\n",
       "      <th>2</th>\n",
       "      <td>2016</td>\n",
       "      <td>29946</td>\n",
       "      <td>30</td>\n",
       "      <td>55.4</td>\n",
       "      <td>1.4</td>\n",
       "      <td>11000</td>\n",
       "    </tr>\n",
       "    <tr>\n",
       "      <th>3</th>\n",
       "      <td>2017</td>\n",
       "      <td>25952</td>\n",
       "      <td>145</td>\n",
       "      <td>67.3</td>\n",
       "      <td>2.0</td>\n",
       "      <td>16800</td>\n",
       "    </tr>\n",
       "    <tr>\n",
       "      <th>4</th>\n",
       "      <td>2019</td>\n",
       "      <td>1998</td>\n",
       "      <td>145</td>\n",
       "      <td>49.6</td>\n",
       "      <td>1.0</td>\n",
       "      <td>17300</td>\n",
       "    </tr>\n",
       "  </tbody>\n",
       "</table>\n",
       "</div>"
      ],
      "text/plain": [
       "   year  mileage  tax   mpg  engineSize  price\n",
       "0  2017    15735  150  55.4         1.4  12500\n",
       "1  2016    36203   20  64.2         2.0  16500\n",
       "2  2016    29946   30  55.4         1.4  11000\n",
       "3  2017    25952  145  67.3         2.0  16800\n",
       "4  2019     1998  145  49.6         1.0  17300"
      ]
     },
     "execution_count": 192,
     "metadata": {},
     "output_type": "execute_result"
    }
   ],
   "source": [
    "# Looking at the number columns of our data\n",
    "df.select_dtypes(include=['number']).head()"
   ]
  },
  {
   "cell_type": "code",
   "execution_count": 193,
   "id": "fc2780e5",
   "metadata": {},
   "outputs": [
    {
     "data": {
      "image/png": "[encoded data removed]",
      "text/plain": [
       "<Figure size 640x480 with 1 Axes>"
      ]
     },
     "metadata": {},
     "output_type": "display_data"
    }
   ],
   "source": [
    "# Looking at the distribution of car brands\n",
    "p = sns.countplot(data=df, x=\"brand\")"
   ]
  },
  {
   "cell_type": "markdown",
   "id": "9d4ad606",
   "metadata": {},
   "source": [
    "### Observation:\n",
    "- Dataset contains around the equal amount of Audi and BMW models slighly above 10000 for each\n",
    "- Ford dominates the dataset with the amount of slightly above 17500 models\n",
    "- And Toyota ends the list with amount of around 7000 models"
   ]
  },
  {
   "cell_type": "code",
   "execution_count": 194,
   "id": "6de741de",
   "metadata": {},
   "outputs": [
    {
     "data": {
      "image/png": "[encoded data removed]",
      "text/plain": [
       "<Figure size 640x480 with 1 Axes>"
      ]
     },
     "metadata": {},
     "output_type": "display_data"
    }
   ],
   "source": [
    "# Looking at the distribution of N most popular car models\n",
    "top_n = 25  # Set the number of most popular car models you want to include\n",
    "\n",
    "# Get the counts for each model\n",
    "model_counts = df['model'].value_counts()\n",
    "\n",
    "# Select the top N most popular models\n",
    "top_models = model_counts.head(top_n).index\n",
    "\n",
    "# Filter the DataFrame to include only the top models\n",
    "df_top_models = df[df['model'].isin(top_models)]\n",
    "\n",
    "# Create the count plot\n",
    "p = sns.countplot(data=df_top_models, y=\"model\")"
   ]
  },
  {
   "cell_type": "markdown",
   "id": "e44204cd",
   "metadata": {},
   "source": [
    "### Observation:\n",
    "- Dataset contains many different car models, thats why we only included 25 to see which models are preferred most of the mines, otherwise the plot would be impossible to read\n",
    "- Fiesta dominates the dataset with the amount of slightly above 6000 models\n",
    "- Focus is taking the second place with 4500 models\n",
    "- And 3 series ends up in the 3rd place with around 2200 models"
   ]
  },
  {
   "cell_type": "code",
   "execution_count": 195,
   "id": "28ef421a",
   "metadata": {},
   "outputs": [
    {
     "data": {
      "image/png": "[encoded data removed]",
      "text/plain": [
       "<Figure size 640x480 with 1 Axes>"
      ]
     },
     "metadata": {},
     "output_type": "display_data"
    }
   ],
   "source": [
    "# Looking at the distribution of transmission types\n",
    "p = sns.countplot(data=df, x=\"transmission\")"
   ]
  },
  {
   "cell_type": "markdown",
   "id": "67dd138b",
   "metadata": {},
   "source": [
    "### Observation:\n",
    "- Manual transmission is used in more than half the cars in the entire dataset, 25500 manual cars\n",
    "- Automatic and Semi-Auto are used twice as less and more. Around 10000 for each\n",
    "- Other types are very rarely being used"
   ]
  },
  {
   "cell_type": "code",
   "execution_count": 196,
   "id": "9d8d34d9",
   "metadata": {},
   "outputs": [
    {
     "data": {
      "image/png": "[encoded data removed]",
      "text/plain": [
       "<Figure size 640x480 with 1 Axes>"
      ]
     },
     "metadata": {},
     "output_type": "display_data"
    }
   ],
   "source": [
    "# Looking the distribution of fuel types\n",
    "p = sns.countplot(data=df, x=\"fuelType\")"
   ]
  },
  {
   "cell_type": "markdown",
   "id": "f867bcd7",
   "metadata": {},
   "source": [
    "### Observation:\n",
    "- Petrol and Diesel cars are most popular. \n",
    "- Almost 25000 petrol car models and 18500 Diesel models\n",
    "- Our dataset doesn't contain many Hybrid cars and almost none Electric and other types"
   ]
  },
  {
   "cell_type": "code",
   "execution_count": 197,
   "id": "ea1b4dab",
   "metadata": {},
   "outputs": [
    {
     "data": {
      "image/png": "[encoded data removed]",
      "text/plain": [
       "<Figure size 640x480 with 1 Axes>"
      ]
     },
     "metadata": {},
     "output_type": "display_data"
    }
   ],
   "source": [
    "# Looking at the distribution of the cars' year production\n",
    "p = sns.countplot(data=df, y=\"year\")"
   ]
  },
  {
   "cell_type": "markdown",
   "id": "c2b5ac11",
   "metadata": {},
   "source": [
    "### Observation:\n",
    "- We can see that vast majority of cars are produced from 2016 to 2019"
   ]
  },
  {
   "cell_type": "code",
   "execution_count": 198,
   "id": "c2ae9fc5",
   "metadata": {},
   "outputs": [
    {
     "data": {
      "text/plain": [
       "<Axes: xlabel='mileage', ylabel='Count'>"
      ]
     },
     "execution_count": 198,
     "metadata": {},
     "output_type": "execute_result"
    },
    {
     "data": {
      "image/png": "[encoded data removed]",
      "text/plain": [
       "<Figure size 640x480 with 1 Axes>"
      ]
     },
     "metadata": {},
     "output_type": "display_data"
    }
   ],
   "source": [
    "# Looking at the distribution of the cars' mileages\n",
    "sns.histplot(df['mileage'], bins=26)"
   ]
  },
  {
   "cell_type": "markdown",
   "id": "c8b99993",
   "metadata": {},
   "source": [
    "### Observation:\n",
    "- Using the histogram we can see that most car models have very small mileage with 16000 models ranging from 0 to 12500 miles\n",
    "- And as we go farther and increase the mileage, the count of cars decreases geometrically"
   ]
  },
  {
   "cell_type": "code",
   "execution_count": 199,
   "id": "dcf190ea",
   "metadata": {},
   "outputs": [
    {
     "data": {
      "text/plain": [
       "<Axes: xlabel='tax', ylabel='Count'>"
      ]
     },
     "execution_count": 199,
     "metadata": {},
     "output_type": "execute_result"
    },
    {
     "data": {
      "image/png": "[encoded data removed]",
      "text/plain": [
       "<Figure size 640x480 with 1 Axes>"
      ]
     },
     "metadata": {},
     "output_type": "display_data"
    }
   ],
   "source": [
    "# Looking the distribution of the cars' taxes\n",
    "sns.histplot(df['tax'], bins=26)"
   ]
  },
  {
   "cell_type": "markdown",
   "id": "44ded297",
   "metadata": {},
   "source": [
    "### Observation:\n",
    "- Most of the cars' taxes are placed between 120 and 150.\n",
    "- And the second largest group are taxes from 0 to 50.\n",
    "- The rest of data is almsot negligible"
   ]
  },
  {
   "cell_type": "code",
   "execution_count": 200,
   "id": "fe9fbe42",
   "metadata": {},
   "outputs": [
    {
     "data": {
      "text/plain": [
       "<Axes: xlabel='mpg', ylabel='Count'>"
      ]
     },
     "execution_count": 200,
     "metadata": {},
     "output_type": "execute_result"
    },
    {
     "data": {
      "image/png": "[encoded data removed]",
      "text/plain": [
       "<Figure size 640x480 with 1 Axes>"
      ]
     },
     "metadata": {},
     "output_type": "display_data"
    }
   ],
   "source": [
    "# Looking at the distribution of the cars' mpgs\n",
    "sns.histplot(df['mpg'], bins=26)"
   ]
  },
  {
   "cell_type": "markdown",
   "id": "480d8edd",
   "metadata": {},
   "source": [
    "### Observation:\n",
    "- The mpg is centered mostly in values between 140 and 180"
   ]
  },
  {
   "cell_type": "code",
   "execution_count": 201,
   "id": "f02fd0e1",
   "metadata": {},
   "outputs": [
    {
     "data": {
      "text/plain": [
       "<Axes: xlabel='engineSize', ylabel='Count'>"
      ]
     },
     "execution_count": 201,
     "metadata": {},
     "output_type": "execute_result"
    },
    {
     "data": {
      "image/png": "[encoded data removed]",
      "text/plain": [
       "<Figure size 640x480 with 1 Axes>"
      ]
     },
     "metadata": {},
     "output_type": "display_data"
    }
   ],
   "source": [
    "# Looking at the distribution of the cars' engine sizes\n",
    "sns.histplot(df['engineSize'], bins=26)"
   ]
  },
  {
   "cell_type": "markdown",
   "id": "f006cfd8",
   "metadata": {},
   "source": [
    "### Observation:\n",
    "- Engine sizes are quite interesting to anylize, they vary a lot\n",
    "- Most of engine sizes are in range from 0.8l to 2l. \n",
    "- But amount of engine with 1.8l to 2.0l has almost the same amount as from 0.8l to 1l and 1.25l to 1.5l combined\n",
    "- Also a big part is placed in range from 2.8l to 3l"
   ]
  },
  {
   "cell_type": "code",
   "execution_count": 202,
   "id": "58fd40cb",
   "metadata": {},
   "outputs": [
    {
     "data": {
      "text/plain": [
       "<Axes: xlabel='price', ylabel='Count'>"
      ]
     },
     "execution_count": 202,
     "metadata": {},
     "output_type": "execute_result"
    },
    {
     "data": {
      "image/png": "[encoded data removed]",
      "text/plain": [
       "<Figure size 640x480 with 1 Axes>"
      ]
     },
     "metadata": {},
     "output_type": "display_data"
    }
   ],
   "source": [
    "# Looking at the distribution of the cars' prices\n",
    "sns.histplot(df['price'], bins=26)"
   ]
  },
  {
   "cell_type": "markdown",
   "id": "cf244c70",
   "metadata": {},
   "source": [
    "### Observation:\n",
    "- Most car models have prices varying from 4000 to 10000\n",
    "- And we can clearly see that the higher price of the car is the less variants of car models we can find"
   ]
  },
  {
   "cell_type": "code",
   "execution_count": 203,
   "id": "1f5e1f3b",
   "metadata": {},
   "outputs": [
    {
     "data": {
      "text/plain": [
       "<Axes: xlabel='year'>"
      ]
     },
     "execution_count": 203,
     "metadata": {},
     "output_type": "execute_result"
    },
    {
     "data": {
      "image/png": "[encoded data removed]",
      "text/plain": [
       "<Figure size 640x480 with 1 Axes>"
      ]
     },
     "metadata": {},
     "output_type": "display_data"
    }
   ],
   "source": [
    "# Looking at the central tendency and spread of the cars' year production, as well as the presence of any outliers\n",
    "sns.boxplot(x=df['year'])"
   ]
  },
  {
   "cell_type": "markdown",
   "id": "4cb50bcd",
   "metadata": {},
   "source": [
    "## Observation:\n",
    "- The data ranges from the year 1996 to an unusual maximum value of 2060\n",
    "- The maximum year seems erroneous, as it is likely a typo or data entry error"
   ]
  },
  {
   "cell_type": "code",
   "execution_count": 204,
   "id": "f54098da",
   "metadata": {},
   "outputs": [
    {
     "data": {
      "text/plain": [
       "<Axes: xlabel='mileage'>"
      ]
     },
     "execution_count": 204,
     "metadata": {},
     "output_type": "execute_result"
    },
    {
     "data": {
      "image/png": "[encoded data removed]",
      "text/plain": [
       "<Figure size 640x480 with 1 Axes>"
      ]
     },
     "metadata": {},
     "output_type": "display_data"
    }
   ],
   "source": [
    "# Looking at the central tendency and spread of the cars' mileages, as well as the presence of any outliers\n",
    "sns.boxplot(x=df['mileage'])"
   ]
  },
  {
   "cell_type": "markdown",
   "id": "08d0f068",
   "metadata": {},
   "source": [
    "## Observation:\n",
    "- The average mileage is around 24000 miles\n",
    "- Wide range from 1 mile to a maximum of 323000 miles\n",
    "- There is definetely some outliers "
   ]
  },
  {
   "cell_type": "code",
   "execution_count": 205,
   "id": "f872241f",
   "metadata": {},
   "outputs": [
    {
     "data": {
      "text/plain": [
       "<Axes: xlabel='tax'>"
      ]
     },
     "execution_count": 205,
     "metadata": {},
     "output_type": "execute_result"
    },
    {
     "data": {
      "image/png": "[encoded data removed]",
      "text/plain": [
       "<Figure size 640x480 with 1 Axes>"
      ]
     },
     "metadata": {},
     "output_type": "display_data"
    }
   ],
   "source": [
    "# Looking at the central tendency and spread of the cars' taxes, as well as the presence of any outliers\n",
    "sns.boxplot(x=df['tax'])"
   ]
  },
  {
   "cell_type": "markdown",
   "id": "60920e58",
   "metadata": {},
   "source": [
    "## Observation\n",
    "- The average tax is approximately £120\n",
    "- With a minimum tax of 0 and a maximum of 580.\n",
    "- There are some outliers in the tax values"
   ]
  },
  {
   "cell_type": "code",
   "execution_count": 206,
   "id": "3a2a2025",
   "metadata": {},
   "outputs": [
    {
     "data": {
      "text/plain": [
       "<Axes: xlabel='mpg'>"
      ]
     },
     "execution_count": 206,
     "metadata": {},
     "output_type": "execute_result"
    },
    {
     "data": {
      "image/png": "[encoded data removed]",
      "text/plain": [
       "<Figure size 640x480 with 1 Axes>"
      ]
     },
     "metadata": {},
     "output_type": "display_data"
    }
   ],
   "source": [
    "# Looking at the central tendency and spread of the cars' mpgs, as well as the presence of any outliers\n",
    "sns.boxplot(x=df['mpg'])"
   ]
  },
  {
   "cell_type": "markdown",
   "id": "b8afe4a3",
   "metadata": {},
   "source": [
    "## Observation\n",
    "- The average fuel efficiency is approximately 56 mpg\n",
    "- With values ranging a lot.\n",
    "- We can see that are outliers that need to be removed"
   ]
  },
  {
   "cell_type": "code",
   "execution_count": 207,
   "id": "082b8dbf",
   "metadata": {},
   "outputs": [
    {
     "data": {
      "text/plain": [
       "<Axes: xlabel='engineSize'>"
      ]
     },
     "execution_count": 207,
     "metadata": {},
     "output_type": "execute_result"
    },
    {
     "data": {
      "image/png": "[encoded data removed]",
      "text/plain": [
       "<Figure size 640x480 with 1 Axes>"
      ]
     },
     "metadata": {},
     "output_type": "display_data"
    }
   ],
   "source": [
    "# Looking at the central tendency and spread of the cars' engine sizes, as well as the presence of any outliers\n",
    "sns.boxplot(x=df['engineSize'])"
   ]
  },
  {
   "cell_type": "markdown",
   "id": "58f4a484",
   "metadata": {},
   "source": [
    "## Observation\n",
    "- Not many outliers\n",
    "- With a minimum size of 0 liters (possibly a data entry error) "
   ]
  },
  {
   "cell_type": "code",
   "execution_count": 208,
   "id": "79ac75b2",
   "metadata": {},
   "outputs": [
    {
     "data": {
      "text/plain": [
       "<Axes: xlabel='price'>"
      ]
     },
     "execution_count": 208,
     "metadata": {},
     "output_type": "execute_result"
    },
    {
     "data": {
      "image/png": "[encoded data removed]",
      "text/plain": [
       "<Figure size 640x480 with 1 Axes>"
      ]
     },
     "metadata": {},
     "output_type": "display_data"
    }
   ],
   "source": [
    "# Looking at the central tendency and spread of the cars' prices, as well as the presence of any outliers\n",
    "sns.boxplot(x=df['price'])"
   ]
  },
  {
   "cell_type": "markdown",
   "id": "2713ec96",
   "metadata": {},
   "source": [
    "## Observation\n",
    "- The prices vary widely, with a minimum value of £495 and a maximum of £145,000.\n",
    "- Probably the outliers would not be removed\n",
    "- Even though majority of cars are outliers, there are still lot of them"
   ]
  },
  {
   "cell_type": "markdown",
   "id": "c79f3b81",
   "metadata": {},
   "source": [
    "# Removing Outliers using IQR (Interquartile Range) Method:"
   ]
  },
  {
   "cell_type": "code",
   "execution_count": 209,
   "id": "00dc1e72",
   "metadata": {},
   "outputs": [],
   "source": [
    "# Use the IQR to identify and remove outliers. \n",
    "# Data points outside a certain range defined by the IQR are considered outliers.\n",
    "# This method is applied to numerical columns\n",
    "\n",
    "Q1_year = df['year'].quantile(0.25)\n",
    "Q3_year = df['year'].quantile(0.75)\n",
    "IQR_year = Q3_year - Q1_year\n",
    "\n",
    "df = df[(df['year'] > Q1_year - 1.5 * IQR_year) & (df['year'] < Q3_year + 1.5 * IQR_year)]"
   ]
  },
  {
   "cell_type": "code",
   "execution_count": 210,
   "id": "61eb8f41",
   "metadata": {},
   "outputs": [
    {
     "data": {
      "text/plain": [
       "<Axes: xlabel='year'>"
      ]
     },
     "execution_count": 210,
     "metadata": {},
     "output_type": "execute_result"
    },
    {
     "data": {
      "image/png": "[encoded data removed]",
      "text/plain": [
       "<Figure size 640x480 with 1 Axes>"
      ]
     },
     "metadata": {},
     "output_type": "display_data"
    }
   ],
   "source": [
    "# Looking at the central tendency and spread of the cars' year production after applying IQR\n",
    "sns.boxplot(x=df['year'])"
   ]
  },
  {
   "cell_type": "code",
   "execution_count": 211,
   "id": "656e0f38",
   "metadata": {},
   "outputs": [],
   "source": [
    "# Use the IQR to identify and remove outliers. \n",
    "# Data points outside a certain range defined by the IQR are considered outliers.\n",
    "# This method is applied to numerical columns\n",
    "\n",
    "Q1_mileage = df['mileage'].quantile(0.25)\n",
    "Q3_mileage = df['mileage'].quantile(0.75)\n",
    "IQR_mileage = Q3_mileage - Q1_mileage\n",
    "\n",
    "df = df[(df['mileage'] > Q1_mileage - 1.5 * IQR_mileage) & (df['mileage'] < Q3_mileage + 1.5 * IQR_mileage)]"
   ]
  },
  {
   "cell_type": "code",
   "execution_count": 212,
   "id": "9be30eea",
   "metadata": {},
   "outputs": [
    {
     "data": {
      "text/plain": [
       "<Axes: xlabel='mileage'>"
      ]
     },
     "execution_count": 212,
     "metadata": {},
     "output_type": "execute_result"
    },
    {
     "data": {
      "image/png": "[encoded data removed]",
      "text/plain": [
       "<Figure size 640x480 with 1 Axes>"
      ]
     },
     "metadata": {},
     "output_type": "display_data"
    }
   ],
   "source": [
    "# Looking at the central tendency and spread of the cars' mileages after applying IQR\n",
    "sns.boxplot(x=df['mileage'])"
   ]
  },
  {
   "cell_type": "code",
   "execution_count": 213,
   "id": "7af52dad",
   "metadata": {},
   "outputs": [],
   "source": [
    "# Use the IQR to identify and remove outliers. \n",
    "# Data points outside a certain range defined by the IQR are considered outliers.\n",
    "# This method is applied to numerical columns\n",
    "\n",
    "Q1_tax = df['tax'].quantile(0.25)\n",
    "Q3_tax = df['tax'].quantile(0.75)\n",
    "IQR_tax = Q3_tax - Q1_tax\n",
    "\n",
    "# df = df[(df['tax'] > Q1_tax - 1.5 * IQR_tax) & (df['tax'] < Q3_tax + 1.5 * IQR_tax)]"
   ]
  },
  {
   "cell_type": "code",
   "execution_count": 214,
   "id": "4c04c9bc",
   "metadata": {},
   "outputs": [
    {
     "data": {
      "text/plain": [
       "<Axes: xlabel='tax'>"
      ]
     },
     "execution_count": 214,
     "metadata": {},
     "output_type": "execute_result"
    },
    {
     "data": {
      "image/png": "[encoded data removed]",
      "text/plain": [
       "<Figure size 640x480 with 1 Axes>"
      ]
     },
     "metadata": {},
     "output_type": "display_data"
    }
   ],
   "source": [
    "# Looking at the central tendency and spread of the cars' taxes after applying IQR\n",
    "sns.boxplot(x=df['tax'])"
   ]
  },
  {
   "cell_type": "code",
   "execution_count": 215,
   "id": "a6b811a9",
   "metadata": {},
   "outputs": [],
   "source": [
    "# Use the IQR to identify and remove outliers. \n",
    "# Data points outside a certain range defined by the IQR are considered outliers.\n",
    "# This method is applied to numerical columns\n",
    "\n",
    "Q1_mpg = df['mpg'].quantile(0.25)\n",
    "Q3_mpg = df['mpg'].quantile(0.75)\n",
    "IQR_mpg = Q3_mpg - Q1_mpg\n",
    "\n",
    "df = df[(df['mpg'] > Q1_mpg - 1.5 * IQR_mpg) & (df['mpg'] < Q3_mpg + 1.5 * IQR_mpg)]"
   ]
  },
  {
   "cell_type": "code",
   "execution_count": 216,
   "id": "4efa97cf",
   "metadata": {},
   "outputs": [
    {
     "data": {
      "text/plain": [
       "<Axes: xlabel='mpg'>"
      ]
     },
     "execution_count": 216,
     "metadata": {},
     "output_type": "execute_result"
    },
    {
     "data": {
      "image/png": "[encoded data removed]",
      "text/plain": [
       "<Figure size 640x480 with 1 Axes>"
      ]
     },
     "metadata": {},
     "output_type": "display_data"
    }
   ],
   "source": [
    "# Looking at the central tendency and spread of the cars' mpgs after applying IQR\n",
    "sns.boxplot(x=df['mpg']) "
   ]
  },
  {
   "cell_type": "code",
   "execution_count": 217,
   "id": "95d2a9e7",
   "metadata": {},
   "outputs": [],
   "source": [
    "# Use the IQR to identify and remove outliers. \n",
    "# Data points outside a certain range defined by the IQR are considered outliers.\n",
    "# This method is applied to numerical columns\n",
    "\n",
    "Q1_engineSize = df['engineSize'].quantile(0.25)\n",
    "Q3_engineSize = df['engineSize'].quantile(0.75)\n",
    "IQR_engineSize = Q3_engineSize - Q1_engineSize\n",
    "\n",
    "df = df[(df['engineSize'] > Q1_engineSize - 1.5 * IQR_engineSize) & (df['engineSize'] < Q3_engineSize + 1.5 * IQR_engineSize)]"
   ]
  },
  {
   "cell_type": "code",
   "execution_count": 218,
   "id": "b04081b7",
   "metadata": {},
   "outputs": [
    {
     "data": {
      "text/plain": [
       "<Axes: xlabel='engineSize'>"
      ]
     },
     "execution_count": 218,
     "metadata": {},
     "output_type": "execute_result"
    },
    {
     "data": {
      "image/png": "[encoded data removed]",
      "text/plain": [
       "<Figure size 640x480 with 1 Axes>"
      ]
     },
     "metadata": {},
     "output_type": "display_data"
    }
   ],
   "source": [
    "# Looking at the central tendency and spread of the cars' engine sizes after applying IQR\n",
    "sns.boxplot(x=df['engineSize'])"
   ]
  },
  {
   "cell_type": "markdown",
   "id": "6617744f",
   "metadata": {},
   "source": [
    "# Label Encoder"
   ]
  },
  {
   "cell_type": "code",
   "execution_count": 219,
   "id": "d9d62824",
   "metadata": {},
   "outputs": [],
   "source": [
    "# Initialize a LabelEncoder object\n",
    "encoder = LabelEncoder()"
   ]
  },
  {
   "cell_type": "code",
   "execution_count": 220,
   "id": "0708ba6a",
   "metadata": {},
   "outputs": [
    {
     "data": {
      "text/plain": [
       "{0: 'Audi', 1: 'BMW', 2: 'Ford', 3: 'Toyota'}"
      ]
     },
     "execution_count": 220,
     "metadata": {},
     "output_type": "execute_result"
    }
   ],
   "source": [
    "# Encode 'brand' column and create a mapping dictionary\n",
    "df['brand'] = encoder.fit_transform(df['brand'])\n",
    "brand_mapping = {index : label for index, label in enumerate(encoder.classes_)}\n",
    "brand_mapping"
   ]
  },
  {
   "cell_type": "code",
   "execution_count": 221,
   "id": "2d79833e",
   "metadata": {},
   "outputs": [
    {
     "data": {
      "text/plain": [
       "{0: ' 1 Series',\n",
       " 1: ' 2 Series',\n",
       " 2: ' 3 Series',\n",
       " 3: ' 4 Series',\n",
       " 4: ' 5 Series',\n",
       " 5: ' 6 Series',\n",
       " 6: ' 7 Series',\n",
       " 7: ' 8 Series',\n",
       " 8: ' A1',\n",
       " 9: ' A3',\n",
       " 10: ' A4',\n",
       " 11: ' A5',\n",
       " 12: ' A6',\n",
       " 13: ' A7',\n",
       " 14: ' A8',\n",
       " 15: ' Auris',\n",
       " 16: ' Avensis',\n",
       " 17: ' Aygo',\n",
       " 18: ' B-MAX',\n",
       " 19: ' C-HR',\n",
       " 20: ' C-MAX',\n",
       " 21: ' Camry',\n",
       " 22: ' Corolla',\n",
       " 23: ' EcoSport',\n",
       " 24: ' Edge',\n",
       " 25: ' Fiesta',\n",
       " 26: ' Focus',\n",
       " 27: ' GT86',\n",
       " 28: ' Galaxy',\n",
       " 29: ' Grand C-MAX',\n",
       " 30: ' Grand Tourneo Connect',\n",
       " 31: ' Hilux',\n",
       " 32: ' IQ',\n",
       " 33: ' KA',\n",
       " 34: ' Ka+',\n",
       " 35: ' Kuga',\n",
       " 36: ' Land Cruiser',\n",
       " 37: ' M2',\n",
       " 38: ' M3',\n",
       " 39: ' M4',\n",
       " 40: ' Mondeo',\n",
       " 41: ' Mustang',\n",
       " 42: ' PROACE VERSO',\n",
       " 43: ' Prius',\n",
       " 44: ' Puma',\n",
       " 45: ' Q2',\n",
       " 46: ' Q3',\n",
       " 47: ' Q5',\n",
       " 48: ' Q7',\n",
       " 49: ' Q8',\n",
       " 50: ' RAV4',\n",
       " 51: ' RS3',\n",
       " 52: ' RS4',\n",
       " 53: ' RS5',\n",
       " 54: ' S-MAX',\n",
       " 55: ' S3',\n",
       " 56: ' S4',\n",
       " 57: ' S5',\n",
       " 58: ' SQ5',\n",
       " 59: ' Supra',\n",
       " 60: ' TT',\n",
       " 61: ' Tourneo Connect',\n",
       " 62: ' Tourneo Custom',\n",
       " 63: ' Transit Tourneo',\n",
       " 64: ' Urban Cruiser',\n",
       " 65: ' Verso',\n",
       " 66: ' Verso-S',\n",
       " 67: ' X1',\n",
       " 68: ' X2',\n",
       " 69: ' X3',\n",
       " 70: ' X4',\n",
       " 71: ' X5',\n",
       " 72: ' X6',\n",
       " 73: ' X7',\n",
       " 74: ' Yaris',\n",
       " 75: ' Z4'}"
      ]
     },
     "execution_count": 221,
     "metadata": {},
     "output_type": "execute_result"
    }
   ],
   "source": [
    "# Encode 'model' column and create a mapping dictionary\n",
    "df['model'] = encoder.fit_transform(df['model'])\n",
    "model_mapping = {index : label for index, label in enumerate(encoder.classes_)}\n",
    "model_mapping"
   ]
  },
  {
   "cell_type": "code",
   "execution_count": 222,
   "id": "ee11d178",
   "metadata": {},
   "outputs": [
    {
     "data": {
      "text/plain": [
       "{0: 'Automatic', 1: 'Manual', 2: 'Other', 3: 'Semi-Auto'}"
      ]
     },
     "execution_count": 222,
     "metadata": {},
     "output_type": "execute_result"
    }
   ],
   "source": [
    "# Encode 'transmission' column and create a mapping dictionary\n",
    "df['transmission'] = encoder.fit_transform(df['transmission'])\n",
    "transmission_mapping = {index : label for index, label in enumerate(encoder.classes_)}\n",
    "transmission_mapping"
   ]
  },
  {
   "cell_type": "code",
   "execution_count": 223,
   "id": "d9b9aad0",
   "metadata": {},
   "outputs": [
    {
     "data": {
      "text/plain": [
       "{0: 'Diesel', 1: 'Electric', 2: 'Hybrid', 3: 'Other', 4: 'Petrol'}"
      ]
     },
     "execution_count": 223,
     "metadata": {},
     "output_type": "execute_result"
    }
   ],
   "source": [
    "# Encode 'fuelType' column and create a mapping dictionary\n",
    "df['fuelType'] = encoder.fit_transform(df['fuelType'])\n",
    "fuelType_mapping = {index : label for index, label in enumerate(encoder.classes_)}\n",
    "fuelType_mapping"
   ]
  },
  {
   "cell_type": "markdown",
   "id": "8669749b",
   "metadata": {},
   "source": [
    "# Models"
   ]
  },
  {
   "cell_type": "code",
   "execution_count": 224,
   "id": "3caa562e",
   "metadata": {},
   "outputs": [],
   "source": [
    "x = df.drop('price', axis=1)\n",
    "y = df['price']"
   ]
  },
  {
   "cell_type": "code",
   "execution_count": 225,
   "id": "faf667cb",
   "metadata": {},
   "outputs": [
    {
     "name": "stdout",
     "output_type": "stream",
     "text": [
      "x \n",
      " [[0.         0.10666667 0.625      0.33333333 0.22639826 1.\n",
      "  0.26315789 0.48188976 0.46666667]\n",
      " [0.         0.16       0.5        0.         0.52091457 0.\n",
      "  0.03508772 0.62047244 0.66666667]\n",
      " [0.         0.10666667 0.5        0.33333333 0.43088191 1.\n",
      "  0.05263158 0.48188976 0.46666667]\n",
      " [0.         0.13333333 0.625      0.         0.3734118  0.\n",
      "  0.25438596 0.66929134 0.66666667]\n",
      " [0.         0.12       0.875      0.33333333 0.02873505 1.\n",
      "  0.25438596 0.39055118 0.33333333]\n",
      " [0.         0.10666667 0.5        0.         0.46417831 1.\n",
      "  0.05263158 0.53700787 0.46666667]\n",
      " [0.         0.12       0.375      0.33333333 0.66349627 1.\n",
      "  0.03508772 0.55590551 0.46666667]\n",
      " [0.         0.10666667 0.5        0.33333333 0.32303553 1.\n",
      "  0.05263158 0.48188976 0.46666667]\n",
      " [0.         0.12       0.625      0.33333333 0.4166223  1.\n",
      "  0.25438596 0.53700787 0.46666667]\n",
      " [0.         0.16       0.5        0.         0.75106839 0.\n",
      "  0.21929825 0.51653543 0.66666667]]\n",
      "y \n",
      " 0     12500\n",
      "1     16500\n",
      "2     11000\n",
      "3     16800\n",
      "4     17300\n",
      "5     13900\n",
      "8     10200\n",
      "9     12000\n",
      "10    16100\n",
      "11    16500\n",
      "Name: price, dtype: int64\n"
     ]
    }
   ],
   "source": [
    "scaler = MinMaxScaler(copy=True, feature_range=(0, 1))\n",
    "X = scaler.fit_transform(x)\n",
    "\n",
    "#showing data\n",
    "print('x \\n' , X[:10])\n",
    "print('y \\n' , y[:10])"
   ]
  },
  {
   "cell_type": "code",
   "execution_count": 226,
   "id": "0b13426e",
   "metadata": {},
   "outputs": [],
   "source": [
    "x_train, x_test, y_train, y_test = train_test_split(x, y, test_size=10000, random_state=0)"
   ]
  },
  {
   "cell_type": "code",
   "execution_count": 227,
   "id": "75a95c04",
   "metadata": {},
   "outputs": [
    {
     "name": "stdout",
     "output_type": "stream",
     "text": [
      "x_train shape is: (32537, 9)\n"
     ]
    }
   ],
   "source": [
    "print(\"x_train shape is:\",x_train.shape)"
   ]
  },
  {
   "cell_type": "code",
   "execution_count": 228,
   "id": "7499d19e",
   "metadata": {},
   "outputs": [
    {
     "name": "stdout",
     "output_type": "stream",
     "text": [
      "x_test shape is: (10000, 9)\n"
     ]
    }
   ],
   "source": [
    "print(\"x_test shape is:\",x_test.shape)"
   ]
  },
  {
   "cell_type": "code",
   "execution_count": 229,
   "id": "f87f36e3",
   "metadata": {},
   "outputs": [
    {
     "name": "stdout",
     "output_type": "stream",
     "text": [
      "y_train shape is: (32537,)\n"
     ]
    }
   ],
   "source": [
    "print(\"y_train shape is:\",y_train.shape)"
   ]
  },
  {
   "cell_type": "code",
   "execution_count": 230,
   "id": "5c2aa66a",
   "metadata": {},
   "outputs": [
    {
     "name": "stdout",
     "output_type": "stream",
     "text": [
      "y_test shape is: (10000,)\n"
     ]
    }
   ],
   "source": [
    "print(\"y_test shape is:\",y_test.shape)"
   ]
  },
  {
   "cell_type": "code",
   "execution_count": 231,
   "id": "c8592aa1",
   "metadata": {},
   "outputs": [
    {
     "name": "stdout",
     "output_type": "stream",
     "text": [
      "Linear Regression Train Score is :  0.8041234033141688\n",
      "Linear Regression Test Score is :  0.8079044860039015\n",
      "Linear Regression Coef is :  [-1.92548938e+03  5.13295387e+01  2.05282469e+03  1.35122232e+02\n",
      " -9.96448574e-02 -1.15437628e+02 -2.05621124e+01 -1.59373426e+02\n",
      "  8.74161661e+03]\n",
      "Linear Regression intercept is :  -4123198.0536913914\n",
      "----------------------------------------------------\n",
      "Predicted Value for Linear Regression is :  [18085.19032634  8459.82885487 15338.9515217   7753.95706834\n",
      " 36055.31815042 25145.10970041 14132.97388634  6818.50169489\n",
      "  6123.44810645 17212.54596281]\n"
     ]
    }
   ],
   "source": [
    "LinearRegressionModel = LinearRegression(fit_intercept=True, copy_X=True,n_jobs=-1)\n",
    "LinearRegressionModel.fit(x_train, y_train)\n",
    "\n",
    "print('Linear Regression Train Score is : ' , LinearRegressionModel.score(x_train, y_train))\n",
    "print('Linear Regression Test Score is : ' , LinearRegressionModel.score(x_test, y_test))\n",
    "print('Linear Regression Coef is : ' , LinearRegressionModel.coef_)\n",
    "print('Linear Regression intercept is : ' , LinearRegressionModel.intercept_)\n",
    "print('----------------------------------------------------')\n",
    "\n",
    "y_pred = LinearRegressionModel.predict(x_test)\n",
    "print('Predicted Value for Linear Regression is : ' , y_pred[:10])"
   ]
  },
  {
   "cell_type": "code",
   "execution_count": 232,
   "id": "accffb2c",
   "metadata": {},
   "outputs": [
    {
     "name": "stdout",
     "output_type": "stream",
     "text": [
      "Random Forest Regressor Train Score is :  0.9697310420142558\n",
      "Random Forest Regressor Test Score is :  0.9585803158606746\n",
      "----------------------------------------------------\n",
      "Predicted Value for Random Forest Regressor is :  [17262.29216478  9930.35372401  9199.37626896  8644.74123959\n",
      " 34773.56030884 22484.07353185 11084.44245706  9327.94555151\n",
      "  7584.0712079  15453.28665795]\n"
     ]
    }
   ],
   "source": [
    "RandomForestRegressorModel = RandomForestRegressor(n_estimators=100,max_depth=11, random_state=33)\n",
    "RandomForestRegressorModel.fit(x_train, y_train)\n",
    "\n",
    "print('Random Forest Regressor Train Score is : ' , RandomForestRegressorModel.score(x_train, y_train))\n",
    "print('Random Forest Regressor Test Score is : ' , RandomForestRegressorModel.score(x_test, y_test))\n",
    "print('----------------------------------------------------')\n",
    "\n",
    "y_pred = RandomForestRegressorModel.predict(x_test)\n",
    "print('Predicted Value for Random Forest Regressor is : ' , y_pred[:10])"
   ]
  },
  {
   "cell_type": "code",
   "execution_count": 233,
   "id": "19457f29",
   "metadata": {},
   "outputs": [
    {
     "name": "stdout",
     "output_type": "stream",
     "text": [
      "DecisionTreeRegressor Train Score is :  0.9633530362526085\n",
      "DecisionTreeRegressor Test Score is :  0.9414713244528926\n",
      "----------------------------------------------------\n",
      "Predicted Value for DecisionTreeRegressorModel is :  [16839.81646424  9983.86134454  8152.24545455  8630.44366197\n",
      " 35885.17647059 22640.76388889 11258.4893617   8962.95512821\n",
      "  7499.86956522 13185.08695652]\n"
     ]
    }
   ],
   "source": [
    "DecisionTreeRegressorModel = DecisionTreeRegressor( max_depth=11,random_state=33)\n",
    "DecisionTreeRegressorModel.fit(x_train, y_train)\n",
    "\n",
    "print('DecisionTreeRegressor Train Score is : ' , DecisionTreeRegressorModel.score(x_train, y_train))\n",
    "print('DecisionTreeRegressor Test Score is : ' , DecisionTreeRegressorModel.score(x_test, y_test))\n",
    "print('----------------------------------------------------')\n",
    "y_pred = DecisionTreeRegressorModel.predict(x_test)\n",
    "print('Predicted Value for DecisionTreeRegressorModel is : ' , y_pred[:10])"
   ]
  },
  {
   "cell_type": "code",
   "execution_count": null,
   "id": "e9008f32",
   "metadata": {},
   "outputs": [],
   "source": []
  }
 ],
 "metadata": {
  "kernelspec": {
   "display_name": "Python 3 (ipykernel)",
   "language": "python",
   "name": "python3"
  },
  "language_info": {
   "codemirror_mode": {
    "name": "ipython",
    "version": 3
   },
   "file_extension": ".py",
   "mimetype": "text/x-python",
   "name": "python",
   "nbconvert_exporter": "python",
   "pygments_lexer": "ipython3",
   "version": "3.11.5"
  }
 },
 "nbformat": 4,
 "nbformat_minor": 5
}
